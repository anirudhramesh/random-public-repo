{
 "cells": [
  {
   "cell_type": "code",
   "execution_count": 2,
   "metadata": {},
   "outputs": [],
   "source": [
    "import pandas as pd\n",
    "import numpy as np\n",
    "from copy import deepcopy\n",
    "from itertools import product"
   ]
  },
  {
   "cell_type": "markdown",
   "metadata": {},
   "source": [
    "**Day 1**"
   ]
  },
  {
   "cell_type": "code",
   "execution_count": 13,
   "metadata": {},
   "outputs": [
    {
     "data": {
      "text/html": [
       "<div>\n",
       "<style scoped>\n",
       "    .dataframe tbody tr th:only-of-type {\n",
       "        vertical-align: middle;\n",
       "    }\n",
       "\n",
       "    .dataframe tbody tr th {\n",
       "        vertical-align: top;\n",
       "    }\n",
       "\n",
       "    .dataframe thead th {\n",
       "        text-align: right;\n",
       "    }\n",
       "</style>\n",
       "<table border=\"1\" class=\"dataframe\">\n",
       "  <thead>\n",
       "    <tr style=\"text-align: right;\">\n",
       "      <th></th>\n",
       "      <th>0</th>\n",
       "    </tr>\n",
       "  </thead>\n",
       "  <tbody>\n",
       "    <tr>\n",
       "      <th>0</th>\n",
       "      <td>141</td>\n",
       "    </tr>\n",
       "    <tr>\n",
       "      <th>1</th>\n",
       "      <td>140</td>\n",
       "    </tr>\n",
       "    <tr>\n",
       "      <th>2</th>\n",
       "      <td>160</td>\n",
       "    </tr>\n",
       "    <tr>\n",
       "      <th>3</th>\n",
       "      <td>161</td>\n",
       "    </tr>\n",
       "    <tr>\n",
       "      <th>4</th>\n",
       "      <td>162</td>\n",
       "    </tr>\n",
       "  </tbody>\n",
       "</table>\n",
       "</div>"
      ],
      "text/plain": [
       "     0\n",
       "0  141\n",
       "1  140\n",
       "2  160\n",
       "3  161\n",
       "4  162"
      ]
     },
     "execution_count": 13,
     "metadata": {},
     "output_type": "execute_result"
    }
   ],
   "source": [
    "df = pd.read_csv('input1.txt', header=None)\n",
    "df.head()"
   ]
  },
  {
   "cell_type": "markdown",
   "metadata": {},
   "source": [
    "Part 1"
   ]
  },
  {
   "cell_type": "code",
   "execution_count": 4,
   "metadata": {},
   "outputs": [
    {
     "data": {
      "text/plain": [
       "array([1692])"
      ]
     },
     "execution_count": 4,
     "metadata": {},
     "output_type": "execute_result"
    }
   ],
   "source": [
    "sum((df.diff() > 0).values)"
   ]
  },
  {
   "cell_type": "markdown",
   "metadata": {},
   "source": [
    "Part 2"
   ]
  },
  {
   "cell_type": "code",
   "execution_count": 7,
   "metadata": {},
   "outputs": [
    {
     "data": {
      "text/plain": [
       "array([1724])"
      ]
     },
     "execution_count": 7,
     "metadata": {},
     "output_type": "execute_result"
    }
   ],
   "source": [
    "sum((df.rolling(3).sum().diff() > 0).values)"
   ]
  },
  {
   "cell_type": "markdown",
   "metadata": {},
   "source": [
    "**Day 2**"
   ]
  },
  {
   "cell_type": "code",
   "execution_count": 43,
   "metadata": {},
   "outputs": [
    {
     "data": {
      "text/html": [
       "<div>\n",
       "<style scoped>\n",
       "    .dataframe tbody tr th:only-of-type {\n",
       "        vertical-align: middle;\n",
       "    }\n",
       "\n",
       "    .dataframe tbody tr th {\n",
       "        vertical-align: top;\n",
       "    }\n",
       "\n",
       "    .dataframe thead th {\n",
       "        text-align: right;\n",
       "    }\n",
       "</style>\n",
       "<table border=\"1\" class=\"dataframe\">\n",
       "  <thead>\n",
       "    <tr style=\"text-align: right;\">\n",
       "      <th></th>\n",
       "      <th>direction</th>\n",
       "      <th>steps</th>\n",
       "    </tr>\n",
       "  </thead>\n",
       "  <tbody>\n",
       "    <tr>\n",
       "      <th>0</th>\n",
       "      <td>forward</td>\n",
       "      <td>3</td>\n",
       "    </tr>\n",
       "    <tr>\n",
       "      <th>1</th>\n",
       "      <td>down</td>\n",
       "      <td>9</td>\n",
       "    </tr>\n",
       "    <tr>\n",
       "      <th>2</th>\n",
       "      <td>forward</td>\n",
       "      <td>6</td>\n",
       "    </tr>\n",
       "    <tr>\n",
       "      <th>3</th>\n",
       "      <td>down</td>\n",
       "      <td>3</td>\n",
       "    </tr>\n",
       "    <tr>\n",
       "      <th>4</th>\n",
       "      <td>forward</td>\n",
       "      <td>8</td>\n",
       "    </tr>\n",
       "  </tbody>\n",
       "</table>\n",
       "</div>"
      ],
      "text/plain": [
       "  direction  steps\n",
       "0   forward      3\n",
       "1      down      9\n",
       "2   forward      6\n",
       "3      down      3\n",
       "4   forward      8"
      ]
     },
     "execution_count": 43,
     "metadata": {},
     "output_type": "execute_result"
    }
   ],
   "source": [
    "df = pd.read_csv('input2.txt', header=None).loc[:, 0].str.split(' ', expand=True).set_axis(['direction', 'steps'], axis=1).astype({'steps': int})\n",
    "df.head()"
   ]
  },
  {
   "cell_type": "markdown",
   "metadata": {},
   "source": [
    "Part 1"
   ]
  },
  {
   "cell_type": "code",
   "execution_count": 44,
   "metadata": {},
   "outputs": [
    {
     "data": {
      "text/plain": [
       "2073315"
      ]
     },
     "execution_count": 44,
     "metadata": {},
     "output_type": "execute_result"
    }
   ],
   "source": [
    "df[df['direction']=='forward'].steps.sum() * (df[df['direction']=='down'].steps.sum() - df[df['direction']=='up'].steps.sum())"
   ]
  },
  {
   "cell_type": "markdown",
   "metadata": {},
   "source": [
    "Part 2"
   ]
  },
  {
   "cell_type": "code",
   "execution_count": 58,
   "metadata": {},
   "outputs": [
    {
     "data": {
      "text/plain": [
       "1840311528"
      ]
     },
     "execution_count": 58,
     "metadata": {},
     "output_type": "execute_result"
    }
   ],
   "source": [
    "df[df['direction']=='forward'].steps.sum() * (df['direction'].map({'forward': 1, 'up': 0, 'down': 0}) * (df['direction'].map({'up': -1, 'down': 1, 'forward': 0}) * df['steps']).cumsum() * df['steps']).sum()"
   ]
  },
  {
   "cell_type": "markdown",
   "metadata": {},
   "source": [
    "**Day 3**"
   ]
  },
  {
   "cell_type": "code",
   "execution_count": 3,
   "metadata": {},
   "outputs": [
    {
     "data": {
      "text/html": [
       "<div>\n",
       "<style scoped>\n",
       "    .dataframe tbody tr th:only-of-type {\n",
       "        vertical-align: middle;\n",
       "    }\n",
       "\n",
       "    .dataframe tbody tr th {\n",
       "        vertical-align: top;\n",
       "    }\n",
       "\n",
       "    .dataframe thead th {\n",
       "        text-align: right;\n",
       "    }\n",
       "</style>\n",
       "<table border=\"1\" class=\"dataframe\">\n",
       "  <thead>\n",
       "    <tr style=\"text-align: right;\">\n",
       "      <th></th>\n",
       "      <th>1</th>\n",
       "      <th>2</th>\n",
       "      <th>3</th>\n",
       "      <th>4</th>\n",
       "      <th>5</th>\n",
       "      <th>6</th>\n",
       "      <th>7</th>\n",
       "      <th>8</th>\n",
       "      <th>9</th>\n",
       "      <th>10</th>\n",
       "      <th>11</th>\n",
       "      <th>12</th>\n",
       "    </tr>\n",
       "  </thead>\n",
       "  <tbody>\n",
       "    <tr>\n",
       "      <th>0</th>\n",
       "      <td>0</td>\n",
       "      <td>1</td>\n",
       "      <td>1</td>\n",
       "      <td>1</td>\n",
       "      <td>1</td>\n",
       "      <td>1</td>\n",
       "      <td>1</td>\n",
       "      <td>1</td>\n",
       "      <td>1</td>\n",
       "      <td>1</td>\n",
       "      <td>0</td>\n",
       "      <td>1</td>\n",
       "    </tr>\n",
       "    <tr>\n",
       "      <th>1</th>\n",
       "      <td>0</td>\n",
       "      <td>1</td>\n",
       "      <td>1</td>\n",
       "      <td>0</td>\n",
       "      <td>0</td>\n",
       "      <td>0</td>\n",
       "      <td>0</td>\n",
       "      <td>1</td>\n",
       "      <td>0</td>\n",
       "      <td>1</td>\n",
       "      <td>1</td>\n",
       "      <td>1</td>\n",
       "    </tr>\n",
       "    <tr>\n",
       "      <th>2</th>\n",
       "      <td>0</td>\n",
       "      <td>0</td>\n",
       "      <td>0</td>\n",
       "      <td>0</td>\n",
       "      <td>0</td>\n",
       "      <td>0</td>\n",
       "      <td>0</td>\n",
       "      <td>0</td>\n",
       "      <td>0</td>\n",
       "      <td>1</td>\n",
       "      <td>0</td>\n",
       "      <td>1</td>\n",
       "    </tr>\n",
       "    <tr>\n",
       "      <th>3</th>\n",
       "      <td>0</td>\n",
       "      <td>0</td>\n",
       "      <td>0</td>\n",
       "      <td>1</td>\n",
       "      <td>1</td>\n",
       "      <td>1</td>\n",
       "      <td>1</td>\n",
       "      <td>0</td>\n",
       "      <td>0</td>\n",
       "      <td>0</td>\n",
       "      <td>0</td>\n",
       "      <td>1</td>\n",
       "    </tr>\n",
       "    <tr>\n",
       "      <th>4</th>\n",
       "      <td>0</td>\n",
       "      <td>1</td>\n",
       "      <td>1</td>\n",
       "      <td>0</td>\n",
       "      <td>1</td>\n",
       "      <td>1</td>\n",
       "      <td>0</td>\n",
       "      <td>1</td>\n",
       "      <td>0</td>\n",
       "      <td>0</td>\n",
       "      <td>0</td>\n",
       "      <td>0</td>\n",
       "    </tr>\n",
       "  </tbody>\n",
       "</table>\n",
       "</div>"
      ],
      "text/plain": [
       "   1  2  3  4  5  6  7  8  9 10 11 12\n",
       "0  0  1  1  1  1  1  1  1  1  1  0  1\n",
       "1  0  1  1  0  0  0  0  1  0  1  1  1\n",
       "2  0  0  0  0  0  0  0  0  0  1  0  1\n",
       "3  0  0  0  1  1  1  1  0  0  0  0  1\n",
       "4  0  1  1  0  1  1  0  1  0  0  0  0"
      ]
     },
     "execution_count": 3,
     "metadata": {},
     "output_type": "execute_result"
    }
   ],
   "source": [
    "df = pd.read_csv('input3.txt', header=None, dtype=str)[0].str.split('', expand=True).loc[:, 1:12]\n",
    "df.head()"
   ]
  },
  {
   "cell_type": "markdown",
   "metadata": {},
   "source": [
    "Part 1"
   ]
  },
  {
   "cell_type": "code",
   "execution_count": 4,
   "metadata": {},
   "outputs": [
    {
     "data": {
      "text/plain": [
       "4174964"
      ]
     },
     "execution_count": 4,
     "metadata": {},
     "output_type": "execute_result"
    }
   ],
   "source": [
    "(df.mode().squeeze().astype(int) * (2 ** np.arange(12)[::-1])).sum() * \\\n",
    "(df.mode().squeeze().map({'0': '1', '1': '0'}).astype(int) * (2 ** np.arange(12)[::-1])).sum()"
   ]
  },
  {
   "cell_type": "markdown",
   "metadata": {},
   "source": [
    "Part 2"
   ]
  },
  {
   "cell_type": "code",
   "execution_count": 23,
   "metadata": {},
   "outputs": [
    {
     "data": {
      "text/plain": [
       "4474944"
      ]
     },
     "execution_count": 23,
     "metadata": {},
     "output_type": "execute_result"
    }
   ],
   "source": [
    "o2_gen_rating, co2_gen_rating = df.copy(deep=True), df.copy(deep=True)\n",
    "for col in range(1, 13):\n",
    "    if len(o2_gen_rating) > 1:\n",
    "        temp = o2_gen_rating[col].value_counts()\n",
    "        if len(np.unique(temp.values)) == 1:\n",
    "            temp = '1'\n",
    "        else:\n",
    "            temp = temp.keys()[0]\n",
    "        o2_gen_rating = o2_gen_rating[o2_gen_rating[col]==temp]\n",
    "    if len(co2_gen_rating) > 1:\n",
    "        temp = co2_gen_rating[col].value_counts()\n",
    "        if len(np.unique(temp.values)) == 1:\n",
    "            temp = '0'\n",
    "        else:\n",
    "            temp = temp.keys()[1]\n",
    "        co2_gen_rating = co2_gen_rating[co2_gen_rating[col]==temp]\n",
    "\n",
    "(o2_gen_rating.squeeze().astype(int) * (2 ** np.arange(12)[::-1])).sum() * \\\n",
    "(co2_gen_rating.squeeze().astype(int) * (2 ** np.arange(12)[::-1])).sum()"
   ]
  },
  {
   "cell_type": "markdown",
   "metadata": {},
   "source": [
    "**Day 4**"
   ]
  },
  {
   "cell_type": "code",
   "execution_count": 170,
   "metadata": {},
   "outputs": [
    {
     "data": {
      "text/plain": [
       "array([25,  8, 32, 53, 22, 94, 55, 80, 33,  4, 63, 14, 60, 95, 31, 89, 30,\n",
       "        5, 47, 66, 84, 70, 17, 74, 99, 82, 21, 35, 64,  2, 76,  9, 90, 56,\n",
       "       78, 28, 51, 86, 49, 98, 29, 96, 23, 58, 52, 75, 41, 50, 13, 72, 92,\n",
       "       83, 62, 37, 18, 11, 34, 71, 91, 85, 27, 12, 24, 73,  7, 77, 10, 93,\n",
       "       15, 61,  3, 46, 16, 97,  1, 57, 65, 40,  0, 48, 69,  6, 20, 68, 19,\n",
       "       45, 42, 79, 88, 44, 26, 38, 36, 54, 81, 59, 43, 87, 39, 67])"
      ]
     },
     "execution_count": 170,
     "metadata": {},
     "output_type": "execute_result"
    }
   ],
   "source": [
    "callout_numbers = np.genfromtxt('input4.txt', delimiter=',', dtype=int, max_rows=1)\n",
    "callout_numbers"
   ]
  },
  {
   "cell_type": "code",
   "execution_count": 180,
   "metadata": {},
   "outputs": [
    {
     "data": {
      "text/plain": [
       "100"
      ]
     },
     "execution_count": 180,
     "metadata": {},
     "output_type": "execute_result"
    }
   ],
   "source": [
    "bingo_boards = []\n",
    "for line_number in range(3, len(open('input4.txt', 'r').readlines()), 6):\n",
    "    bingo_boards.append(np.genfromtxt('input4.txt', dtype=int, skip_header=line_number-1, max_rows=5))\n",
    "len(bingo_boards)"
   ]
  },
  {
   "cell_type": "markdown",
   "metadata": {},
   "source": [
    "Part 1"
   ]
  },
  {
   "cell_type": "code",
   "execution_count": 194,
   "metadata": {},
   "outputs": [
    {
     "data": {
      "text/plain": [
       "50008"
      ]
     },
     "execution_count": 194,
     "metadata": {},
     "output_type": "execute_result"
    }
   ],
   "source": [
    "bingo_boards_copy = deepcopy(bingo_boards)\n",
    "\n",
    "winning_score = 0\n",
    "for call in callout_numbers:\n",
    "    for board in bingo_boards_copy:\n",
    "        board[board==call] = -1\n",
    "        if np.all(np.diff(board, axis=0)==0, axis=0).any() or np.all(np.diff(board, axis=1)==0, axis=1).any():\n",
    "            if (board.sum() + (board == -1).sum()) * call > winning_score :\n",
    "                winning_score = (board.sum() + (board == -1).sum()) * call\n",
    "            break\n",
    "    if winning_score != 0:\n",
    "        break\n",
    "\n",
    "winning_score"
   ]
  },
  {
   "cell_type": "markdown",
   "metadata": {},
   "source": [
    "Part 2"
   ]
  },
  {
   "cell_type": "code",
   "execution_count": 193,
   "metadata": {},
   "outputs": [
    {
     "data": {
      "text/plain": [
       "17408"
      ]
     },
     "execution_count": 193,
     "metadata": {},
     "output_type": "execute_result"
    }
   ],
   "source": [
    "bingo_boards_copy = deepcopy(bingo_boards)\n",
    "\n",
    "winning_board_positions, last_winning_call = [], 0\n",
    "for call in callout_numbers:\n",
    "    for board_num in range(len(bingo_boards_copy)):\n",
    "        if board_num in winning_board_positions:\n",
    "            continue\n",
    "        board = bingo_boards_copy[board_num]\n",
    "        board[board==call] = -1\n",
    "        if np.all(np.diff(board, axis=0)==0, axis=0).any() or np.all(np.diff(board, axis=1)==0, axis=1).any():\n",
    "            last_winning_call = call\n",
    "            winning_board_positions.append(board_num)\n",
    "\n",
    "last_winning_board = bingo_boards_copy[winning_board_positions[-1]]\n",
    "winning_score = (last_winning_board.sum() + (last_winning_board == -1).sum()) * last_winning_call\n",
    "winning_score"
   ]
  },
  {
   "cell_type": "markdown",
   "metadata": {},
   "source": [
    "**Day 5**"
   ]
  },
  {
   "cell_type": "code",
   "execution_count": 107,
   "metadata": {},
   "outputs": [
    {
     "name": "stderr",
     "output_type": "stream",
     "text": [
      "<ipython-input-107-4b4a66af2008>:1: ParserWarning: Falling back to the 'python' engine because the 'c' engine does not support regex separators (separators > 1 char and different from '\\s+' are interpreted as regex); you can avoid this warning by specifying engine='python'.\n",
      "  df = pd.read_csv('input5.txt', header=None, sep=' -> ').set_axis([1, 2], axis=1)\n"
     ]
    },
    {
     "data": {
      "text/html": [
       "<div>\n",
       "<style scoped>\n",
       "    .dataframe tbody tr th:only-of-type {\n",
       "        vertical-align: middle;\n",
       "    }\n",
       "\n",
       "    .dataframe tbody tr th {\n",
       "        vertical-align: top;\n",
       "    }\n",
       "\n",
       "    .dataframe thead th {\n",
       "        text-align: right;\n",
       "    }\n",
       "</style>\n",
       "<table border=\"1\" class=\"dataframe\">\n",
       "  <thead>\n",
       "    <tr style=\"text-align: right;\">\n",
       "      <th></th>\n",
       "      <th>1</th>\n",
       "      <th>2</th>\n",
       "      <th>x1</th>\n",
       "      <th>y1</th>\n",
       "      <th>x2</th>\n",
       "      <th>y2</th>\n",
       "    </tr>\n",
       "  </thead>\n",
       "  <tbody>\n",
       "    <tr>\n",
       "      <th>0</th>\n",
       "      <td>822,976</td>\n",
       "      <td>822,117</td>\n",
       "      <td>822</td>\n",
       "      <td>976</td>\n",
       "      <td>822</td>\n",
       "      <td>117</td>\n",
       "    </tr>\n",
       "    <tr>\n",
       "      <th>1</th>\n",
       "      <td>387,419</td>\n",
       "      <td>387,468</td>\n",
       "      <td>387</td>\n",
       "      <td>419</td>\n",
       "      <td>387</td>\n",
       "      <td>468</td>\n",
       "    </tr>\n",
       "    <tr>\n",
       "      <th>2</th>\n",
       "      <td>659,275</td>\n",
       "      <td>318,616</td>\n",
       "      <td>659</td>\n",
       "      <td>275</td>\n",
       "      <td>318</td>\n",
       "      <td>616</td>\n",
       "    </tr>\n",
       "    <tr>\n",
       "      <th>3</th>\n",
       "      <td>535,940</td>\n",
       "      <td>684,940</td>\n",
       "      <td>535</td>\n",
       "      <td>940</td>\n",
       "      <td>684</td>\n",
       "      <td>940</td>\n",
       "    </tr>\n",
       "    <tr>\n",
       "      <th>4</th>\n",
       "      <td>294,427</td>\n",
       "      <td>294,88</td>\n",
       "      <td>294</td>\n",
       "      <td>427</td>\n",
       "      <td>294</td>\n",
       "      <td>88</td>\n",
       "    </tr>\n",
       "  </tbody>\n",
       "</table>\n",
       "</div>"
      ],
      "text/plain": [
       "         1        2   x1   y1   x2   y2\n",
       "0  822,976  822,117  822  976  822  117\n",
       "1  387,419  387,468  387  419  387  468\n",
       "2  659,275  318,616  659  275  318  616\n",
       "3  535,940  684,940  535  940  684  940\n",
       "4  294,427   294,88  294  427  294   88"
      ]
     },
     "execution_count": 107,
     "metadata": {},
     "output_type": "execute_result"
    }
   ],
   "source": [
    "df = pd.read_csv('input5.txt', header=None, sep=' -> ').set_axis([1, 2], axis=1)\n",
    "df[['x1', 'y1']] = df[1].str.split(',', expand=True).astype(int)\n",
    "df[['x2', 'y2']] = df[2].str.split(',', expand=True).astype(int)\n",
    "\n",
    "df.head()"
   ]
  },
  {
   "cell_type": "markdown",
   "metadata": {},
   "source": [
    "Part 1"
   ]
  },
  {
   "cell_type": "code",
   "execution_count": 138,
   "metadata": {},
   "outputs": [
    {
     "data": {
      "text/plain": [
       "5294"
      ]
     },
     "execution_count": 138,
     "metadata": {},
     "output_type": "execute_result"
    }
   ],
   "source": [
    "vertical_horizontal_lines = df.loc[(df.x1==df.x2) | (df.y1==df.y2)]\n",
    "min_x, max_x = vertical_horizontal_lines[['x1', 'x2']].min().min(), vertical_horizontal_lines[['x1', 'x2']].max().max()\n",
    "min_y, max_y = vertical_horizontal_lines[['y1', 'y2']].min().min(), vertical_horizontal_lines[['y1', 'y2']].max().max()\n",
    "\n",
    "field = np.zeros((max_x-min_x, max_y-min_y))\n",
    "for _, line in vertical_horizontal_lines.iterrows():\n",
    "    field[min(line.x1, line.x2)-min_x:max(line.x1, line.x2)-min_x+1,\n",
    "          min(line.y1, line.y2)-min_y:max(line.y1, line.y2)-min_y+1] += 1\n",
    "            \n",
    "(field>1).sum()"
   ]
  },
  {
   "cell_type": "markdown",
   "metadata": {},
   "source": [
    "Part 2"
   ]
  },
  {
   "cell_type": "code",
   "execution_count": 183,
   "metadata": {},
   "outputs": [
    {
     "data": {
      "text/plain": [
       "21698"
      ]
     },
     "execution_count": 183,
     "metadata": {},
     "output_type": "execute_result"
    }
   ],
   "source": [
    "min_x, max_x = df[['x1', 'x2']].min().min(), df[['x1', 'x2']].max().max()\n",
    "min_y, max_y = df[['y1', 'y2']].min().min(), df[['y1', 'y2']].max().max()\n",
    "\n",
    "field = np.zeros((max_x-min_x, max_y-min_y))\n",
    "for _, line in df.iterrows():\n",
    "    if line.x1 == line.x2 or line.y1 == line.y2:\n",
    "        field[min(line.x1, line.x2)-min_x:max(line.x1, line.x2)-min_x+1,\n",
    "              min(line.y1, line.y2)-min_y:max(line.y1, line.y2)-min_y+1] += 1\n",
    "    else:\n",
    "        if line.x1 < line.x2:\n",
    "            if line.y1 < line.y2:\n",
    "                np.fill_diagonal(field[line.x1-min_x:line.x2-min_x+1, line.y1-min_y:line.y2-min_y+1],\n",
    "                                field[line.x1-min_x:line.x2-min_x+1, line.y1-min_y:line.y2-min_y+1].diagonal()+1)\n",
    "            else:\n",
    "                np.fill_diagonal(np.flipud(field[line.x1-min_x:line.x2-min_x+1, line.y2-min_y:line.y1-min_y+1]),\n",
    "                                np.flipud(field[line.x1-min_x:line.x2-min_x+1, line.y2-min_y:line.y1-min_y+1]).diagonal()+1)\n",
    "        else:\n",
    "            if line.y1 < line.y2:\n",
    "                np.fill_diagonal(np.flipud(field[line.x2-min_x:line.x1-min_x+1, line.y1-min_y:line.y2-min_y+1]),\n",
    "                                np.flipud(field[line.x2-min_x:line.x1-min_x+1, line.y1-min_y:line.y2-min_y+1]).diagonal()+1)\n",
    "            else:\n",
    "                np.fill_diagonal(field[line.x2-min_x:line.x1-min_x+1, line.y2-min_y:line.y1-min_y+1],\n",
    "                        field[line.x2-min_x:line.x1-min_x+1, line.y2-min_y:line.y1-min_y+1].diagonal()+1)\n",
    "\n",
    "(field>1).sum()"
   ]
  },
  {
   "cell_type": "markdown",
   "metadata": {},
   "source": [
    "**Day 6**"
   ]
  },
  {
   "cell_type": "code",
   "execution_count": 186,
   "metadata": {},
   "outputs": [
    {
     "data": {
      "text/plain": [
       "array([3, 5, 1, 5, 3])"
      ]
     },
     "execution_count": 186,
     "metadata": {},
     "output_type": "execute_result"
    }
   ],
   "source": [
    "lantern_fish = np.genfromtxt('input6.txt', delimiter=',', dtype=int)\n",
    "lantern_fish[:5]"
   ]
  },
  {
   "cell_type": "markdown",
   "metadata": {},
   "source": [
    "Part 1"
   ]
  },
  {
   "cell_type": "code",
   "execution_count": 234,
   "metadata": {},
   "outputs": [
    {
     "data": {
      "text/plain": [
       "351188"
      ]
     },
     "execution_count": 234,
     "metadata": {},
     "output_type": "execute_result"
    }
   ],
   "source": [
    "def offsprings(initial_days, total_days, known_results):\n",
    "    if (initial_days, total_days) in known_results:\n",
    "        return known_results[(initial_days, total_days)]\n",
    "    count = 0\n",
    "    for child_day in range(initial_days, total_days, 7):\n",
    "        count += (1 + offsprings(child_day+9, total_days, known_results))\n",
    "    known_results[(initial_days, total_days)] = count\n",
    "    return count\n",
    "\n",
    "total_fish = len(lantern_fish)\n",
    "known_results = {}\n",
    "for inits in lantern_fish:\n",
    "    total_fish += offsprings(inits, 80, known_results)\n",
    "total_fish"
   ]
  },
  {
   "cell_type": "markdown",
   "metadata": {},
   "source": [
    "Part 2"
   ]
  },
  {
   "cell_type": "code",
   "execution_count": 239,
   "metadata": {},
   "outputs": [
    {
     "data": {
      "text/plain": [
       "1595779846729"
      ]
     },
     "execution_count": 239,
     "metadata": {},
     "output_type": "execute_result"
    }
   ],
   "source": [
    "total_fish = len(lantern_fish)\n",
    "known_results = {}\n",
    "for inits in lantern_fish:\n",
    "    total_fish += offsprings(inits, 256, known_results)\n",
    "total_fish"
   ]
  },
  {
   "cell_type": "markdown",
   "metadata": {},
   "source": [
    "**Day 7**"
   ]
  },
  {
   "cell_type": "code",
   "execution_count": 242,
   "metadata": {},
   "outputs": [
    {
     "data": {
      "text/plain": [
       "array([1101,    1,   29,   67, 1102])"
      ]
     },
     "execution_count": 242,
     "metadata": {},
     "output_type": "execute_result"
    }
   ],
   "source": [
    "crab_positions = np.genfromtxt('input7.txt', delimiter=',', dtype=int)\n",
    "crab_positions[:5]"
   ]
  },
  {
   "cell_type": "markdown",
   "metadata": {},
   "source": [
    "Part 1"
   ]
  },
  {
   "cell_type": "code",
   "execution_count": 265,
   "metadata": {},
   "outputs": [
    {
     "data": {
      "text/plain": [
       "348664"
      ]
     },
     "execution_count": 265,
     "metadata": {},
     "output_type": "execute_result"
    }
   ],
   "source": [
    "def fuel(x):\n",
    "    return abs(crab_positions - x).sum()\n",
    "\n",
    "min_fuel = 0\n",
    "for dist in range(min(crab_positions), max(crab_positions)+1):\n",
    "    new_fuel = fuel(dist)\n",
    "    if min_fuel == 0 or new_fuel < min_fuel:\n",
    "        min_fuel = new_fuel\n",
    "        \n",
    "min_fuel"
   ]
  },
  {
   "cell_type": "markdown",
   "metadata": {},
   "source": [
    "Part 2"
   ]
  },
  {
   "cell_type": "code",
   "execution_count": 267,
   "metadata": {},
   "outputs": [
    {
     "data": {
      "text/plain": [
       "100220525"
      ]
     },
     "execution_count": 267,
     "metadata": {},
     "output_type": "execute_result"
    }
   ],
   "source": [
    "def new_fuel_calc(x):\n",
    "    old_calc = abs(crab_positions - x)\n",
    "    return ((old_calc * (old_calc + 1)) // 2).sum()\n",
    "\n",
    "min_fuel = 0\n",
    "for dist in range(min(crab_positions), max(crab_positions)+1):\n",
    "    new_fuel = new_fuel_calc(dist)\n",
    "    if min_fuel == 0 or new_fuel < min_fuel:\n",
    "        min_fuel = new_fuel\n",
    "        \n",
    "min_fuel"
   ]
  },
  {
   "cell_type": "markdown",
   "metadata": {},
   "source": [
    "**Day 8**"
   ]
  },
  {
   "cell_type": "code",
   "execution_count": 273,
   "metadata": {},
   "outputs": [
    {
     "data": {
      "text/html": [
       "<div>\n",
       "<style scoped>\n",
       "    .dataframe tbody tr th:only-of-type {\n",
       "        vertical-align: middle;\n",
       "    }\n",
       "\n",
       "    .dataframe tbody tr th {\n",
       "        vertical-align: top;\n",
       "    }\n",
       "\n",
       "    .dataframe thead th {\n",
       "        text-align: right;\n",
       "    }\n",
       "</style>\n",
       "<table border=\"1\" class=\"dataframe\">\n",
       "  <thead>\n",
       "    <tr style=\"text-align: right;\">\n",
       "      <th></th>\n",
       "      <th>0</th>\n",
       "      <th>1</th>\n",
       "      <th>2</th>\n",
       "      <th>3</th>\n",
       "      <th>4</th>\n",
       "      <th>5</th>\n",
       "      <th>6</th>\n",
       "      <th>7</th>\n",
       "      <th>8</th>\n",
       "      <th>9</th>\n",
       "      <th>11</th>\n",
       "      <th>12</th>\n",
       "      <th>13</th>\n",
       "      <th>14</th>\n",
       "    </tr>\n",
       "  </thead>\n",
       "  <tbody>\n",
       "    <tr>\n",
       "      <th>0</th>\n",
       "      <td>fgcae</td>\n",
       "      <td>ebafc</td>\n",
       "      <td>cabdef</td>\n",
       "      <td>eg</td>\n",
       "      <td>abecfg</td>\n",
       "      <td>abgfed</td>\n",
       "      <td>feg</td>\n",
       "      <td>gafdc</td>\n",
       "      <td>bceg</td>\n",
       "      <td>ebgcadf</td>\n",
       "      <td>defagbc</td>\n",
       "      <td>faecg</td>\n",
       "      <td>cfdag</td>\n",
       "      <td>gecb</td>\n",
       "    </tr>\n",
       "    <tr>\n",
       "      <th>1</th>\n",
       "      <td>eagd</td>\n",
       "      <td>cad</td>\n",
       "      <td>fgadbc</td>\n",
       "      <td>aefdcg</td>\n",
       "      <td>dcebfg</td>\n",
       "      <td>fcegd</td>\n",
       "      <td>cbeaf</td>\n",
       "      <td>ad</td>\n",
       "      <td>dbgfeca</td>\n",
       "      <td>defca</td>\n",
       "      <td>cfdeg</td>\n",
       "      <td>gdcabf</td>\n",
       "      <td>fcgde</td>\n",
       "      <td>afgced</td>\n",
       "    </tr>\n",
       "    <tr>\n",
       "      <th>2</th>\n",
       "      <td>gfdeca</td>\n",
       "      <td>aeb</td>\n",
       "      <td>eb</td>\n",
       "      <td>fbdag</td>\n",
       "      <td>eafdc</td>\n",
       "      <td>adfbe</td>\n",
       "      <td>cefdab</td>\n",
       "      <td>bdaegcf</td>\n",
       "      <td>efbc</td>\n",
       "      <td>ecadgb</td>\n",
       "      <td>eb</td>\n",
       "      <td>dbafe</td>\n",
       "      <td>eab</td>\n",
       "      <td>faecd</td>\n",
       "    </tr>\n",
       "    <tr>\n",
       "      <th>3</th>\n",
       "      <td>facbdge</td>\n",
       "      <td>efdg</td>\n",
       "      <td>gcafd</td>\n",
       "      <td>daegc</td>\n",
       "      <td>caegb</td>\n",
       "      <td>aecfdb</td>\n",
       "      <td>ade</td>\n",
       "      <td>ed</td>\n",
       "      <td>gafbdc</td>\n",
       "      <td>dgfeac</td>\n",
       "      <td>de</td>\n",
       "      <td>abcdef</td>\n",
       "      <td>faedcg</td>\n",
       "      <td>dfgca</td>\n",
       "    </tr>\n",
       "    <tr>\n",
       "      <th>4</th>\n",
       "      <td>dcaegbf</td>\n",
       "      <td>bc</td>\n",
       "      <td>dcgeab</td>\n",
       "      <td>cbgad</td>\n",
       "      <td>cebg</td>\n",
       "      <td>cdfaeb</td>\n",
       "      <td>fbadg</td>\n",
       "      <td>acdge</td>\n",
       "      <td>cefdga</td>\n",
       "      <td>cdb</td>\n",
       "      <td>gdcfae</td>\n",
       "      <td>gbec</td>\n",
       "      <td>gdace</td>\n",
       "      <td>cgadfe</td>\n",
       "    </tr>\n",
       "  </tbody>\n",
       "</table>\n",
       "</div>"
      ],
      "text/plain": [
       "        0      1       2       3       4       5       6        7        8   \\\n",
       "0    fgcae  ebafc  cabdef      eg  abecfg  abgfed     feg    gafdc     bceg   \n",
       "1     eagd    cad  fgadbc  aefdcg  dcebfg   fcegd   cbeaf       ad  dbgfeca   \n",
       "2   gfdeca    aeb      eb   fbdag   eafdc   adfbe  cefdab  bdaegcf     efbc   \n",
       "3  facbdge   efdg   gcafd   daegc   caegb  aecfdb     ade       ed   gafbdc   \n",
       "4  dcaegbf     bc  dcgeab   cbgad    cebg  cdfaeb   fbadg    acdge   cefdga   \n",
       "\n",
       "        9        11      12      13      14  \n",
       "0  ebgcadf  defagbc   faecg   cfdag    gecb  \n",
       "1    defca    cfdeg  gdcabf   fcgde  afgced  \n",
       "2   ecadgb       eb   dbafe     eab   faecd  \n",
       "3   dgfeac       de  abcdef  faedcg   dfgca  \n",
       "4      cdb   gdcfae    gbec   gdace  cgadfe  "
      ]
     },
     "execution_count": 273,
     "metadata": {},
     "output_type": "execute_result"
    }
   ],
   "source": [
    "df = pd.read_csv('input8.txt', header=None, sep=' ').drop(10, axis=1)\n",
    "df.head()"
   ]
  },
  {
   "cell_type": "markdown",
   "metadata": {},
   "source": [
    "Part 1"
   ]
  },
  {
   "cell_type": "code",
   "execution_count": 279,
   "metadata": {},
   "outputs": [
    {
     "data": {
      "text/plain": [
       "278"
      ]
     },
     "execution_count": 279,
     "metadata": {},
     "output_type": "execute_result"
    }
   ],
   "source": [
    "output_cardinality = df.iloc[:, -4:].apply(lambda col: col.str.len())\n",
    "\n",
    "total = 0\n",
    "unique_digit_sequence = [2, 3, 4, 7] # corresponding to the digits 1, 4, 7 and 8\n",
    "for col in output_cardinality:\n",
    "    total += len(output_cardinality[output_cardinality[col].isin(unique_digit_sequence)])\n",
    "\n",
    "total"
   ]
  },
  {
   "cell_type": "markdown",
   "metadata": {},
   "source": [
    "Part 2"
   ]
  },
  {
   "cell_type": "code",
   "execution_count": 319,
   "metadata": {},
   "outputs": [
    {
     "data": {
      "text/plain": [
       "986179"
      ]
     },
     "execution_count": 319,
     "metadata": {},
     "output_type": "execute_result"
    }
   ],
   "source": [
    "def find_digits(input_row):\n",
    "    wire_sequence = input_row.iloc[:-4].apply(lambda one_seq: frozenset(one_seq))\n",
    "    _4digit_number = input_row.iloc[-4:].apply(lambda one_digit: frozenset(one_digit))\n",
    "    \n",
    "    wire_seq_length = wire_sequence.apply(len)\n",
    "    \n",
    "    wire_digit_mapping = {1: wire_sequence.loc[np.where(wire_seq_length == 2)].values[0], \n",
    "                          4: wire_sequence.loc[np.where(wire_seq_length == 4)].values[0],\n",
    "                          7: wire_sequence.loc[np.where(wire_seq_length == 3)].values[0],\n",
    "                          8: wire_sequence.loc[np.where(wire_seq_length == 7)].values[0]}\n",
    "    \n",
    "    for seq in wire_sequence.loc[np.where(wire_seq_length == 5)].values:\n",
    "        if seq | wire_digit_mapping[4] == wire_digit_mapping[8]:\n",
    "            wire_digit_mapping[2] = seq\n",
    "        elif len(seq ^ wire_digit_mapping[7]) == 2:\n",
    "            wire_digit_mapping[3] = seq\n",
    "        else:\n",
    "            wire_digit_mapping[5] = seq\n",
    "            \n",
    "    wire_digit_mapping[9] = wire_digit_mapping[3] | wire_digit_mapping[5]\n",
    "\n",
    "    for seq in wire_sequence.loc[np.where(wire_seq_length == 6)].values:\n",
    "        if seq == wire_digit_mapping[9]:\n",
    "            continue\n",
    "        elif seq | wire_digit_mapping[1] == seq:\n",
    "            wire_digit_mapping[0] = seq\n",
    "        else:\n",
    "            wire_digit_mapping[6] = seq\n",
    "    \n",
    "    digit_wire_mapping = dict(zip(wire_digit_mapping.values(), wire_digit_mapping.keys()))\n",
    "    \n",
    "    return (_4digit_number.map(digit_wire_mapping) * (10**np.arange(3, -1, -1))).sum()\n",
    "\n",
    "df.apply(find_digits, axis=1).sum()"
   ]
  },
  {
   "cell_type": "markdown",
   "metadata": {},
   "source": [
    "**Day 9**"
   ]
  },
  {
   "cell_type": "code",
   "execution_count": 362,
   "metadata": {},
   "outputs": [
    {
     "data": {
      "text/plain": [
       "array([[2, 1, 9, 9, 9, 4, 3, 2, 1, 0],\n",
       "       [3, 9, 8, 7, 8, 9, 4, 9, 2, 1],\n",
       "       [9, 8, 5, 6, 7, 8, 9, 8, 9, 2],\n",
       "       [8, 7, 6, 7, 8, 9, 6, 7, 8, 9],\n",
       "       [9, 8, 9, 9, 9, 6, 5, 6, 7, 8]])"
      ]
     },
     "execution_count": 362,
     "metadata": {},
     "output_type": "execute_result"
    }
   ],
   "source": [
    "heightmap = pd.read_csv('input9_test.txt', header=None, dtype=str)[0].str.split('', expand=True).iloc[:, 1:-1].astype(int).values\n",
    "heightmap"
   ]
  },
  {
   "cell_type": "markdown",
   "metadata": {},
   "source": [
    "Part 1"
   ]
  },
  {
   "cell_type": "code",
   "execution_count": 367,
   "metadata": {},
   "outputs": [
    {
     "data": {
      "text/plain": [
       "15"
      ]
     },
     "execution_count": 367,
     "metadata": {},
     "output_type": "execute_result"
    }
   ],
   "source": [
    "expanded_heightmap = np.pad(heightmap, ((1, 1), (1, 1)), 'maximum')\n",
    "\n",
    "results = np.random.choice(a=[True], size=(heightmap.shape[0], heightmap.shape[1]))\n",
    "for shift in [1, -1]:\n",
    "    results &= (heightmap < np.roll(expanded_heightmap, (shift, 0), axis=(0, 1))[1:-1, 1:-1])\n",
    "    results &= (heightmap < np.roll(expanded_heightmap, (0, shift), axis=(0, 1))[1:-1, 1:-1])\n",
    "(results * heightmap).sum() + results.sum()"
   ]
  },
  {
   "cell_type": "markdown",
   "metadata": {},
   "source": [
    "Part 2"
   ]
  },
  {
   "cell_type": "code",
   "execution_count": 368,
   "metadata": {},
   "outputs": [
    {
     "data": {
      "text/plain": [
       "array([[ True,  True, False, False, False,  True,  True,  True,  True,\n",
       "         True],\n",
       "       [ True, False,  True,  True,  True, False,  True, False,  True,\n",
       "         True],\n",
       "       [False,  True,  True,  True,  True,  True, False,  True, False,\n",
       "         True],\n",
       "       [ True,  True,  True,  True,  True, False,  True,  True,  True,\n",
       "        False],\n",
       "       [False,  True, False, False, False,  True,  True,  True,  True,\n",
       "         True]])"
      ]
     },
     "execution_count": 368,
     "metadata": {},
     "output_type": "execute_result"
    }
   ],
   "source": [
    "expanded_heightmap = np.pad(heightmap, ((1, 1), (1, 1)), 'maximum')\n",
    "\n",
    "results_1 = np.random.choice(a=[False], size=(heightmap.shape[0], heightmap.shape[1]))\n",
    "for shift in [1, -1]:\n",
    "    results_1 |= (heightmap < np.roll(expanded_heightmap, (shift, 0), axis=(0, 1))[1:-1, 1:-1])\n",
    "    results_1 |= (heightmap < np.roll(expanded_heightmap, (0, shift), axis=(0, 1))[1:-1, 1:-1])\n",
    "results_1"
   ]
  },
  {
   "cell_type": "code",
   "execution_count": 387,
   "metadata": {},
   "outputs": [
    {
     "name": "stdout",
     "output_type": "stream",
     "text": [
      "0 0 1 2\n",
      "0 0 1 2 4 [[ True  True False]\n",
      " [ True False  True]]\n"
     ]
    },
    {
     "data": {
      "text/plain": [
       "[35]"
      ]
     },
     "execution_count": 387,
     "metadata": {},
     "output_type": "execute_result"
    }
   ],
   "source": [
    "def coords_boundary(left, top, bottom, right, highest_row, highest_col):\n",
    "    left, top = 0 if left==0 else left-1, 0 if top==0 else top-1\n",
    "    bottom, right = bottom if bottom==highest_row else bottom+1, right if right==highest_col else right+1\n",
    "    return [left, top, bottom, right]\n",
    "\n",
    "three_largest_basins = []\n",
    "\n",
    "highest_row, highest_col = results.shape[0], results.shape[1]\n",
    "for coords in np.array(np.where(results == True)).T[:1, :]:    \n",
    "    top, left = 0 if coords[0]==0 else coords[0]-1, 0 if coords[1]==0 else coords[1]-1\n",
    "    bottom, right = coords[0] if coords[0]==results.shape[0] else coords[0]+1, coords[1] if coords[1]==results.shape[1] else coords[1]+1\n",
    "    print(left, top, bottom, right)\n",
    "    \n",
    "    old_basin_size = results_1[top:bottom+1, left:right+1].sum()\n",
    "    print(left, top, bottom, right, old_basin_size, results_1[top:bottom+1, left:right+1])\n",
    "    left, top, bottom, right = coords_boundary(left, top, bottom, right, highest_row, highest_col)\n",
    "    new_basin_size = results_1[top:bottom+1, left:right+1].sum()\n",
    "#     print(left, top, bottom, right, old_basin_size, new_basin_size)\n",
    "    while new_basin_size > old_basin_size:\n",
    "        left, top, bottom, right = coords_boundary(left, top, bottom, right, highest_row, highest_col)\n",
    "#         print(left, top, bottom, right, old_basin_size, new_basin_size)\n",
    "        old_basin_size = new_basin_size\n",
    "        new_basin_size = results_1[top:bottom+1, left:right+1].sum()\n",
    "        \n",
    "    if len(three_largest_basins) < 3:\n",
    "        three_largest_basins.append(new_basin_size)\n",
    "    elif new_basin_size > min(three_largest_basins):\n",
    "        three_largest_basins.pop(three_largest_basins.index(min(three_largest_basins)))\n",
    "        three_largest_basins.append(new_basin_size)\n",
    "        \n",
    "# np.array(three_largest_basins).prod()\n",
    "three_largest_basins"
   ]
  }
 ],
 "metadata": {
  "kernelspec": {
   "display_name": "Python 3",
   "language": "python",
   "name": "python3"
  },
  "language_info": {
   "codemirror_mode": {
    "name": "ipython",
    "version": 3
   },
   "file_extension": ".py",
   "mimetype": "text/x-python",
   "name": "python",
   "nbconvert_exporter": "python",
   "pygments_lexer": "ipython3",
   "version": "3.8.1"
  }
 },
 "nbformat": 4,
 "nbformat_minor": 2
}
