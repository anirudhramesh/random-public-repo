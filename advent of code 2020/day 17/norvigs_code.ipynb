{
 "cells": [
  {
   "cell_type": "code",
   "execution_count": 1,
   "metadata": {
    "pycharm": {
     "name": "#%%\n"
    }
   },
   "outputs": [],
   "source": [
    "from typing import List, Tuple, Set, Dict\n",
    "from itertools import product, chain\n",
    "from functools import lru_cache\n",
    "import operator\n",
    "from collections import Counter"
   ]
  },
  {
   "cell_type": "code",
   "execution_count": 2,
   "metadata": {
    "pycharm": {
     "name": "#%%\n"
    }
   },
   "outputs": [],
   "source": [
    "flatten = chain.from_iterable\n",
    "Picture = List[str]\n",
    "def lines(text: str) -> List[str]:\n",
    "    \"Split the text into a list of lines.\"\n",
    "    return text.strip().splitlines()"
   ]
  },
  {
   "cell_type": "code",
   "execution_count": 15,
   "metadata": {},
   "outputs": [],
   "source": [
    "# in17: Picture = lines('''\n",
    "# ##.#....\n",
    "# ...#...#\n",
    "# .#.#.##.\n",
    "# ..#.#...\n",
    "# .###....\n",
    "# .##.#...\n",
    "# #.##..##\n",
    "# #.####..\n",
    "# ''')\n",
    "\n",
    "in17: Picture = lines(open('input17.txt').read())"
   ]
  },
  {
   "cell_type": "code",
   "execution_count": 4,
   "metadata": {
    "pycharm": {
     "name": "#%%\n"
    }
   },
   "outputs": [],
   "source": [
    "Cell  = Tuple[int,...]\n",
    "\n",
    "def day17_1(picture, d=3, n=6):\n",
    "    \"How many cells are active in the nth generation?\"\n",
    "    return len(life(parse_cells(picture, d), n))\n",
    "\n",
    "def parse_cells(picture, d=3, active='#') -> Set[Cell]:\n",
    "    \"Convert a 2-d picture into a set of d-dimensional active cells.\"\n",
    "    return {(x, y, *(0,) * (d - 2))\n",
    "            for (y, row) in enumerate(picture)\n",
    "            for x, cell in enumerate(row) if cell is active}\n",
    "\n",
    "def life(cells, n) -> Set[Cell]:\n",
    "    \"Play n generations of Life.\"\n",
    "    for g in range(n):\n",
    "        cells = next_generation(cells)\n",
    "    return cells\n",
    "\n",
    "def next_generation(cells) -> Set[Cell]:\n",
    "    \"\"\"The set of live cells in the next generation.\"\"\"\n",
    "    return {cell for cell, count in neighbor_counts(cells).items()\n",
    "            if count == 3 or (count == 2 and cell in cells)}\n",
    "\n",
    "@lru_cache()\n",
    "def cell_deltas(d: int):\n",
    "    return set(filter(any, product((-1, 0, +1), repeat=d)))\n",
    "\n",
    "def neighbor_counts(cells) -> Dict[Cell, int]:\n",
    "    \"\"\"A Counter of the number of live neighbors for each cell.\"\"\"\n",
    "    return Counter(flatten(map(neighbors, cells)))\n",
    "\n",
    "def neighbors(cell) -> List[Cell]:\n",
    "    \"All adjacent neighbors of cell in three dimensions.\"\n",
    "    return [tuple(map(operator.add, cell, delta))\n",
    "            for delta in cell_deltas(len(cell))]"
   ]
  },
  {
   "cell_type": "code",
   "execution_count": 17,
   "metadata": {
    "pycharm": {
     "name": "#%%\n"
    }
   },
   "outputs": [
    {
     "data": {
      "text/plain": [
       "286"
      ]
     },
     "execution_count": 17,
     "metadata": {},
     "output_type": "execute_result"
    }
   ],
   "source": [
    "day17_1(in17)"
   ]
  },
  {
   "cell_type": "code",
   "execution_count": 16,
   "metadata": {
    "pycharm": {
     "name": "#%%\n"
    }
   },
   "outputs": [
    {
     "data": {
      "text/plain": [
       "29"
      ]
     },
     "execution_count": 16,
     "metadata": {},
     "output_type": "execute_result"
    }
   ],
   "source": [
    "len(life(parse_cells(in17, 3), 0))"
   ]
  }
 ],
 "metadata": {
  "kernelspec": {
   "display_name": "Python 3",
   "language": "python",
   "name": "python3"
  },
  "language_info": {
   "codemirror_mode": {
    "name": "ipython",
    "version": 3
   },
   "file_extension": ".py",
   "mimetype": "text/x-python",
   "name": "python",
   "nbconvert_exporter": "python",
   "pygments_lexer": "ipython3",
   "version": "3.8.1"
  }
 },
 "nbformat": 4,
 "nbformat_minor": 1
}
