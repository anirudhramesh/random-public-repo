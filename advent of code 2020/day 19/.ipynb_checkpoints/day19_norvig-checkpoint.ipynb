{
 "cells": [
  {
   "cell_type": "code",
   "execution_count": 1,
   "metadata": {
    "pycharm": {
     "name": "#%%\n"
    }
   },
   "outputs": [],
   "source": [
    "from typing import List, Union, Tuple, Dict, Optional\n",
    "import re\n",
    "\n",
    "Char = str\n",
    "\n",
    "def atoms(text: str, ignore=r'', sep=None) -> Tuple[Union[int, str]]:\n",
    "    \"Parse text into atoms (numbers or strs), possibly ignoring a regex.\"\n",
    "    if ignore:\n",
    "        text = re.sub(ignore, '', text)\n",
    "    return tuple(map(atom, text.split(sep)))\n",
    "\n",
    "def atom(text: str) -> Union[float, int, str]:\n",
    "    \"Parse text into a single float or int or str.\"\n",
    "    try:\n",
    "        val = float(text)\n",
    "        return round(val) if round(val) == val else val\n",
    "    except ValueError:\n",
    "        return text\n",
    "\n",
    "def data(day: int, parser=str, sep='\\n') -> list:\n",
    "    \"Split the day's input file into sections separated by `sep`, and apply `parser` to each.\"\n",
    "    sections = open(f'input{day}.txt').read().rstrip().split(sep)\n",
    "    return [parser(section) for section in sections]\n",
    "\n",
    "def quantify(iterable, pred=bool) -> int:\n",
    "    \"Count the number of items in iterable for which pred is true.\"\n",
    "    return sum(1 for item in iterable if pred(item))"
   ]
  },
  {
   "cell_type": "code",
   "execution_count": 2,
   "metadata": {
    "collapsed": true
   },
   "outputs": [],
   "source": [
    "Message = str   # A string we are trying to match, e.g. \"ababba\"\n",
    "Choice  = tuple # A choice of any of the elements, e.g. Choice(([5, 6], [7]))\n",
    "Pattern = List[Union[Char, int, Choice]]\n",
    "\n",
    "def parse_messages(rules, messages) -> Tuple[Dict[int, Pattern], List[Message]]:\n",
    "    \"Return a dict of {rule_number: pattern} and a list of messages.\"\n",
    "    return dict(map(parse_rule, rules)), messages\n",
    "\n",
    "def parse_rule(line):\n",
    "    \"Parse '1: 2 3' => (1, [2, 3]); '4: 5, 6 | 7' => (4, Choice(([5, 6], [7]))).\"\n",
    "    n, *rhs = atoms(line, ignore='[:\"]')\n",
    "    if '|' in rhs:\n",
    "        i = rhs.index('|')\n",
    "        rhs = [Choice((rhs[:i], rhs[i + 1:]))]\n",
    "    return n, rhs\n",
    "\n",
    "in19 = parse_messages(*data(19, str.splitlines, sep='\\n\\n'))"
   ]
  },
  {
   "cell_type": "code",
   "execution_count": 5,
   "metadata": {
    "pycharm": {
     "name": "#%%\n"
    }
   },
   "outputs": [
    {
     "data": {
      "text/plain": [
       "107"
      ]
     },
     "execution_count": 5,
     "metadata": {},
     "output_type": "execute_result"
    }
   ],
   "source": [
    "def match(pat, msg, rules) -> Optional[Message]:\n",
    "    \"If a prefix of msg matches pat, return remaining str; else None\"\n",
    "    if pat and not msg:              # Failed to match whole pat\n",
    "        return None\n",
    "    elif not pat:                    # Matched whole pat\n",
    "        return msg\n",
    "    elif pat[0] == msg[0]:           # Matched first char; continue\n",
    "        return match(pat[1:], msg[1:], rules)\n",
    "    elif isinstance(pat[0], int):    # Look up the rule number\n",
    "        return match(rules[pat[0]] + pat[1:], msg, rules)\n",
    "    elif isinstance(pat[0], Choice): # Match any of the choices\n",
    "        for choice in pat[0]:\n",
    "            m = match(choice + pat[1:], msg, rules)\n",
    "            if m is not None:\n",
    "                return m\n",
    "    return None\n",
    "\n",
    "def day19_1(inputs):\n",
    "    \"How many messages completely match rule 0?\"\n",
    "    rules, messages = inputs\n",
    "    return quantify(match(rules[0], msg, rules) == ''\n",
    "                    for msg in messages)\n",
    "\n",
    "day19_1(in19)"
   ]
  },
  {
   "cell_type": "code",
   "execution_count": 6,
   "metadata": {},
   "outputs": [
    {
     "data": {
      "text/plain": [
       "321"
      ]
     },
     "execution_count": 6,
     "metadata": {},
     "output_type": "execute_result"
    }
   ],
   "source": [
    "def day19_2(inputs):\n",
    "    \"How many messages completely match rule 0, with new rules 8 and 11?\"\n",
    "    rules, messages = inputs\n",
    "    rules2 = {**rules, 8: [42, maybe(8)], 11: [42, maybe(11), 31]}\n",
    "    return day19_1((rules2, messages))\n",
    "             \n",
    "def maybe(n): return Choice(([], [n]))\n",
    "\n",
    "day19_2(in19)"
   ]
  }
 ],
 "metadata": {
  "kernelspec": {
   "display_name": "Python 3",
   "language": "python",
   "name": "python3"
  },
  "language_info": {
   "codemirror_mode": {
    "name": "ipython",
    "version": 3
   },
   "file_extension": ".py",
   "mimetype": "text/x-python",
   "name": "python",
   "nbconvert_exporter": "python",
   "pygments_lexer": "ipython3",
   "version": "3.8.1"
  }
 },
 "nbformat": 4,
 "nbformat_minor": 1
}
